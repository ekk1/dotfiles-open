{
 "cells": [
  {
   "cell_type": "code",
   "execution_count": 26,
   "id": "51c6ba2a-3994-4e5c-a2e6-9230da7a4501",
   "metadata": {},
   "outputs": [],
   "source": [
    "from keras.datasets import mnist"
   ]
  },
  {
   "cell_type": "code",
   "execution_count": 27,
   "id": "fdcb2d5c-b157-44c0-b1da-1a08ec7f67c7",
   "metadata": {},
   "outputs": [],
   "source": [
    "(train_images, train_labels), (test_images, test_labels) = mnist.load_data()"
   ]
  },
  {
   "cell_type": "code",
   "execution_count": 28,
   "id": "2ba76256-8b9f-49e0-b184-d0bfc144fa7a",
   "metadata": {},
   "outputs": [],
   "source": [
    "# from PIL import Image as im\n",
    "# im.fromarray(train_images[0])"
   ]
  },
  {
   "cell_type": "code",
   "execution_count": 29,
   "id": "e9e3ce6b-db91-44d1-8b63-82bf50042ef7",
   "metadata": {},
   "outputs": [
    {
     "data": {
      "text/plain": [
       "5"
      ]
     },
     "execution_count": 29,
     "metadata": {},
     "output_type": "execute_result"
    }
   ],
   "source": [
    "train_labels[0]"
   ]
  },
  {
   "cell_type": "code",
   "execution_count": 30,
   "id": "8e9e78f6-8089-4a6f-aa3e-9ac7d10f7e6d",
   "metadata": {},
   "outputs": [],
   "source": [
    "from keras import models\n",
    "from keras import layers\n",
    "\n",
    "network = models.Sequential()\n",
    "network.add(layers.Dense(512, activation=\"relu\", input_shape=(28 * 28,)))"
   ]
  },
  {
   "cell_type": "code",
   "execution_count": 31,
   "id": "26571a46-9463-4cdb-870e-09f232bc5ecd",
   "metadata": {},
   "outputs": [],
   "source": [
    "network.add(layers.Dense(10, activation=\"softmax\"))"
   ]
  },
  {
   "cell_type": "code",
   "execution_count": 32,
   "id": "b55b343b-3094-4bb4-8bdd-94af8f0cd8dc",
   "metadata": {},
   "outputs": [],
   "source": [
    "network.compile(optimizer=\"rmsprop\", loss=\"categorical_crossentropy\", metrics=['accuracy'])"
   ]
  },
  {
   "cell_type": "code",
   "execution_count": 33,
   "id": "147948b9-5b48-4e1c-898d-42ffa1bc03f1",
   "metadata": {},
   "outputs": [],
   "source": [
    "train_images = train_images.reshape(60000, 28 * 28)"
   ]
  },
  {
   "cell_type": "code",
   "execution_count": 34,
   "id": "1afc902e-4c73-4b39-ae9b-cdbe6943282d",
   "metadata": {},
   "outputs": [],
   "source": [
    "train_images = train_images.astype('float32') / 255"
   ]
  },
  {
   "cell_type": "code",
   "execution_count": 35,
   "id": "5693ac60-ba01-4fe5-bba7-b776e80fff72",
   "metadata": {},
   "outputs": [],
   "source": [
    "test_images = test_images.reshape(10000, 28 * 28)\n",
    "test_images = test_images.astype('float32') / 255"
   ]
  },
  {
   "cell_type": "code",
   "execution_count": 36,
   "id": "31b6843a-4c42-474e-b597-ab7ce4f4edab",
   "metadata": {},
   "outputs": [],
   "source": [
    "from keras.utils import to_categorical\n",
    "train_labels = to_categorical(train_labels)\n",
    "test_labels = to_categorical(test_labels)"
   ]
  },
  {
   "cell_type": "code",
   "execution_count": 37,
   "id": "27cd9b5a-9313-4c48-a89d-d896d20c8702",
   "metadata": {},
   "outputs": [
    {
     "name": "stdout",
     "output_type": "stream",
     "text": [
      "Epoch 1/5\n",
      "469/469 [==============================] - 7s 15ms/step - loss: 0.2628 - accuracy: 0.9245\n",
      "Epoch 2/5\n",
      "469/469 [==============================] - 5s 11ms/step - loss: 0.1059 - accuracy: 0.9688\n",
      "Epoch 3/5\n",
      "469/469 [==============================] - 8s 18ms/step - loss: 0.0691 - accuracy: 0.9796\n",
      "Epoch 4/5\n",
      "469/469 [==============================] - 9s 18ms/step - loss: 0.0496 - accuracy: 0.9854\n",
      "Epoch 5/5\n",
      "469/469 [==============================] - 6s 13ms/step - loss: 0.0375 - accuracy: 0.9889\n"
     ]
    },
    {
     "data": {
      "text/plain": [
       "<keras.callbacks.History at 0x7f48f57e91d0>"
      ]
     },
     "execution_count": 37,
     "metadata": {},
     "output_type": "execute_result"
    }
   ],
   "source": [
    "network.fit(train_images, train_labels, epochs=5, batch_size=128)"
   ]
  },
  {
   "cell_type": "code",
   "execution_count": 38,
   "id": "3ef7446a-afc7-4b9d-89fe-5fe4e012a9b9",
   "metadata": {},
   "outputs": [
    {
     "name": "stdout",
     "output_type": "stream",
     "text": [
      "313/313 [==============================] - 2s 5ms/step - loss: 0.0613 - accuracy: 0.9798\n"
     ]
    }
   ],
   "source": [
    "test_loss, test_acc = network.evaluate(test_images, test_labels)"
   ]
  },
  {
   "cell_type": "code",
   "execution_count": 39,
   "id": "68b07348-1525-4269-b700-205c907e3a95",
   "metadata": {},
   "outputs": [
    {
     "data": {
      "text/plain": [
       "0.06125738471746445"
      ]
     },
     "execution_count": 39,
     "metadata": {},
     "output_type": "execute_result"
    }
   ],
   "source": [
    "test_loss"
   ]
  },
  {
   "cell_type": "code",
   "execution_count": 40,
   "id": "9f7eee81-8d99-4bd7-ad45-0c2753826277",
   "metadata": {},
   "outputs": [
    {
     "data": {
      "text/plain": [
       "0.9797999858856201"
      ]
     },
     "execution_count": 40,
     "metadata": {},
     "output_type": "execute_result"
    }
   ],
   "source": [
    "test_acc"
   ]
  },
  {
   "cell_type": "code",
   "execution_count": null,
   "id": "1beca994-3637-45cb-a6d1-0d4fb8d72cf9",
   "metadata": {},
   "outputs": [],
   "source": []
  }
 ],
 "metadata": {
  "kernelspec": {
   "display_name": "Python 3 (ipykernel)",
   "language": "python",
   "name": "python3"
  },
  "language_info": {
   "codemirror_mode": {
    "name": "ipython",
    "version": 3
   },
   "file_extension": ".py",
   "mimetype": "text/x-python",
   "name": "python",
   "nbconvert_exporter": "python",
   "pygments_lexer": "ipython3",
   "version": "3.11.6"
  }
 },
 "nbformat": 4,
 "nbformat_minor": 5
}
